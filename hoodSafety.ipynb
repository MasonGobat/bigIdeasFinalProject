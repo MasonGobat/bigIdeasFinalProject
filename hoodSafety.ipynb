{
 "cells": [
  {
   "cell_type": "code",
   "execution_count": 1,
   "metadata": {},
   "outputs": [],
   "source": [
    "import pandas as pd\n",
    "%matplotlib inline\n",
    "import matplotlib.pyplot as plt\n",
    "import matplotlib.font_manager\n",
    "\n",
    "#loads in all three datasets\n",
    "fires = pd.read_csv(\"data/fires.csv\")\n",
    "chip = pd.read_csv(\"data/CrimeRate.csv\")\n",
    "humps = pd.read_csv(\"data/speedhumps.csv\")\n",
    "\n"
   ]
  },
  {
   "cell_type": "code",
   "execution_count": 3,
   "metadata": {},
   "outputs": [],
   "source": [
    "#creates dictionaries for each metric\n",
    "\n",
    "#fires dictionary\n",
    "fire_count = {}\n",
    "\n",
    "for index, row in fires.iterrows():\n",
    "    neighborhood = row['neighborhood']\n",
    "    if neighborhood in fire_count:\n",
    "        fire_count[neighborhood] += 1\n",
    "    elif neighborhood not in fire_count and neighborhood != None:\n",
    "        fire_count[neighborhood] = 1\n",
    "\n",
    "#crime dictionary\n",
    "dict = {}\n",
    "dict_count = {}\n",
    "for index, row in chip.iterrows():\n",
    "    if not row['INCIDENTNEIGHBORHOOD'] in dict:\n",
    "        dict[row['INCIDENTNEIGHBORHOOD']] = row['HIERARCHY']\n",
    "        dict_count[row['INCIDENTNEIGHBORHOOD']] = 1\n",
    "    else:\n",
    "        dict[row['INCIDENTNEIGHBORHOOD']] = dict.get(row['INCIDENTNEIGHBORHOOD']) + row['HIERARCHY']\n",
    "        dict_count[row['INCIDENTNEIGHBORHOOD']] = dict_count.get(row['INCIDENTNEIGHBORHOOD']) + 1\n",
    "        \n",
    "mean = {}\n",
    "for (k,v), (k2,v2) in zip(dict.items(), dict_count.items()):\n",
    "     mean[k] = v/v2\n",
    "\n",
    "\n",
    "#humps dictionary\n",
    "hph = {}\n",
    "hoods = []\n",
    "nums = []\n",
    "\n",
    "for index, row in humps.iterrows():\n",
    "    hood = row[\"neighborhood\"]\n",
    "    if hood in hph:\n",
    "        hph[hood] += 1\n",
    "    else:\n",
    "        hph[hood] = 1\n",
    "        \n",
    "for i in hph:\n",
    "    hoods.append(i)\n",
    "    nums.append(hph[i])\n",
    "    \n",
    "hph = {\"Neighborhood\":hoods, \"Humps\":nums}\n"
   ]
  },
  {
   "cell_type": "code",
   "execution_count": 4,
   "metadata": {},
   "outputs": [],
   "source": [
    "#turns our dictionaries into dataframes for easier manipulation\n",
    "\n",
    "#fires dataframe\n",
    "graph = pd.DataFrame.from_dict(fire_count, orient='index', dtype = None, columns=None)\n",
    "graph = graph.iloc[1: , :]\n",
    "\n",
    "#crime dataframes\n",
    "count_df = pd.DataFrame.from_dict(dict_count, orient = 'index')\n",
    "mean_dataframe = pd.DataFrame.from_dict(mean, orient = 'index')\n",
    "\n",
    "#humps dataframe\n",
    "graphHumps = pd.DataFrame.from_dict(hph)\n",
    "\n"
   ]
  },
  {
   "cell_type": "code",
   "execution_count": null,
   "metadata": {},
   "outputs": [],
   "source": []
  }
 ],
 "metadata": {
  "kernelspec": {
   "display_name": "Python 3",
   "language": "python",
   "name": "python3"
  },
  "language_info": {
   "codemirror_mode": {
    "name": "ipython",
    "version": 3
   },
   "file_extension": ".py",
   "mimetype": "text/x-python",
   "name": "python",
   "nbconvert_exporter": "python",
   "pygments_lexer": "ipython3",
   "version": "3.8.3"
  }
 },
 "nbformat": 4,
 "nbformat_minor": 4
}
