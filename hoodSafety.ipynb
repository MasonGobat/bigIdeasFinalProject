{
 "cells": [
  {
   "cell_type": "markdown",
   "metadata": {},
   "source": [
    "# Introduction: A Safety Oriented Look at Pittsburgh Neighborhood\n",
    "This project is a data driven analysis of PIttsburgh to find out what the best neighborhood is. When deciding what makes a neighborhood the best, there are many things to consider. What there is to do in the neighborhoods, are the houses nice, is the location nice, is it safe. All of these could be important in deciding what neighborhood is ultimately the best. While we did consider invesitgating the economy of the neighborhoods or how much fun you could have in each neighborhood, we ultimately decided the most important metric was safety."
   ]
  },
  {
   "cell_type": "markdown",
   "metadata": {},
   "source": [
    "## Our Metric:\n",
    "Ass stated above, we eventually landed on safety as our metric for determining the best neighborhood in Pittsburgh. In particular, we have come up with three important aspects of safety that can describe the overall safety of a given neighborhood. The first thing we measured was crime. Using a dataset that included not only the total crime in each neighborhood, but also the severity of each crime, we aimed to find which neighborhood has the lowest crime rate. The second thing we measured was fire safety. Using a dataset that logged fire incidents from 2013 to 2017 as well as what type of fire it was, we determined which neighborhood had the best fire safety. Finally, the last thing we measured was the number of speed humps in each neighborhood. We were able to obtain the number of speed humps currently in each neighborhood in Pittsburgh, and we used it to determine which neighborhood has better road safety. Overall, these three things contribute to making a neighborhood safe, which is of the utmost importance."
   ]
  },
  {
   "cell_type": "markdown",
   "metadata": {},
   "source": [
    "## An Individual Glimpse\n",
    "\n",
    "Before we combine our metrics, we're going to take some time to look at everything that each member has created so far and see what we can learn from that, then we'll see what information we can learn when combining everything together."
   ]
  },
  {
   "cell_type": "markdown",
   "metadata": {},
   "source": [
    "### Crime In Pittsburgh\n",
    "\n",
    "First, we're going to take a look at the crime metric."
   ]
  },
  {
   "cell_type": "code",
   "execution_count": null,
   "metadata": {},
   "outputs": [],
   "source": [
    "import pandas as pd\n",
    "%matplotlib inline\n",
    "\n",
    "chip = pd.read_csv(\"data/CrimeRate.csv\")\n",
    "\n",
    "dict = {}\n",
    "dict_count = {}\n",
    "for index, row in chip.iterrows():\n",
    "    if not row['INCIDENTNEIGHBORHOOD'] in dict:\n",
    "        dict[row['INCIDENTNEIGHBORHOOD']] = row['HIERARCHY']\n",
    "        dict_count[row['INCIDENTNEIGHBORHOOD']] = 1\n",
    "    else:\n",
    "        dict[row['INCIDENTNEIGHBORHOOD']] = dict.get(row['INCIDENTNEIGHBORHOOD']) + row['HIERARCHY']\n",
    "        dict_count[row['INCIDENTNEIGHBORHOOD']] = dict_count.get(row['INCIDENTNEIGHBORHOOD']) + 1\n",
    "        \n",
    "mean = {}\n",
    "for (k,v), (k2,v2) in zip(dict.items(), dict_count.items()):\n",
    "     mean[k] = v/v2\n",
    "\n",
    "count_df = pd.DataFrame.from_dict(dict_count, orient = 'index')\n",
    "mean_dataframe = pd.DataFrame.from_dict(mean, orient = 'index')\n",
    "\n",
    "count_df.plot(kind = \"bar\", figsize=(35,15), color= \"green\", title = \"Count of Crimes Per Neighborhood\")\n"
   ]
  },
  {
   "cell_type": "code",
   "execution_count": null,
   "metadata": {},
   "outputs": [],
   "source": [
    "mean_dataframe.plot(kind = \"bar\", figsize=(35,15), title = \"Average of Hierarchical Crime Per Neighborhood\")"
   ]
  },
  {
   "cell_type": "code",
   "execution_count": null,
   "metadata": {},
   "outputs": [],
   "source": [
    "mean_dataframe.columns = ['Neighborhood']\n",
    "sorted_mean = mean_dataframe.sort_values('Neighborhood', axis = 0, ascending = True, kind = \"quicksort\")\n",
    "sorted_mean.plot(kind = \"bar\", figsize=(35,15), title = \"Sorted Average of Hierarchical Crime Per Neighborhood\", color = \"purple\")"
   ]
  },
  {
   "cell_type": "markdown",
   "metadata": {
    "tags": []
   },
   "source": [
    "#### Conclusion\n",
    "After sorting my plot of average hierachical crime, it was a lot clearer to differentiate between the worst and best neighborhoods. As a result, I conclude that this dataset shows that Mt. Oliver is the best neighborhood because it has the smallest average of hierarchical crime and a low amount of overall crimes commited. This means that families and residents are in far less danger than those in other neighborhoods, which makes it safer than other neighborhoods in the city."
   ]
  },
  {
   "cell_type": "markdown",
   "metadata": {},
   "source": [
    "### Fires in Pittsburgh\n",
    "\n",
    "Now, we'll take a look at fire incidents across the different neighborhoods."
   ]
  },
  {
   "cell_type": "code",
   "execution_count": null,
   "metadata": {},
   "outputs": [],
   "source": [
    "import pandas as pd\n",
    "\n",
    "#Sets up dataframe from the file and creates an empty dictionary\n",
    "fires = pd.read_csv(\"data/fires.csv\")\n",
    "fireCount = {}\n",
    "\n",
    "\n",
    "#Cycles through the data set and counts the number of fire incidents in each neighborhood. \n",
    "#This information is then added to the dictionary\n",
    "for index, row in fires.iterrows():\n",
    "    neighborhood = row['neighborhood']\n",
    "    severity = row['incident_type']\n",
    "    if neighborhood in fireCount:\n",
    "        fireCount[neighborhood] += 1\n",
    "    elif neighborhood not in fireCount and neighborhood != None:\n",
    "        fireCount[neighborhood] = 1\n",
    "        \n",
    "\n",
    "\n",
    "#turns the dictionary into a dataframe and creates a basic bar graph\n",
    "fireCountGraph = pd.DataFrame.from_dict(fireCount, orient='index', dtype = None, columns=None)\n",
    "fireCountGraph = fireCountGraph.iloc[1: , :]\n",
    "fireCountGraph.plot.bar(figsize=(20,3), title = \"Fire Incidents Per Neighborhood in Pittsburgh\")"
   ]
  },
  {
   "cell_type": "code",
   "execution_count": null,
   "metadata": {},
   "outputs": [],
   "source": [
    "#Creates severity dictionary\n",
    "fireSeverity = {}\n",
    "for index, row in fires.iterrows():\n",
    "    neighborhood = row['neighborhood']\n",
    "    severity = row['incident_type']\n",
    "    if neighborhood in fireSeverity:\n",
    "        if severity == 111:\n",
    "            fireSeverity[neighborhood] += 50\n",
    "        elif severity == 131:\n",
    "            fireSeverity[neighborhood] += 35\n",
    "        elif severity == 113:\n",
    "            fireSeverity[neighborhood] += 18\n",
    "        elif severity == 114:\n",
    "            fireSeverity[neighborhood] += 12\n",
    "        elif severity == 151 or severity == 150:\n",
    "            fireSeverity[neighborhood] += 8\n",
    "        elif severity == 141 or severity == 142 or severity == 143:\n",
    "            fireSeverity[neighborhood] += 27\n",
    "        else:\n",
    "            fireSeverity[neighborhood] += 5\n",
    "    elif neighborhood not in fireSeverity and neighborhood != None:\n",
    "        fireCount[neighborhood] = 1\n",
    "        if severity == 111:\n",
    "            fireSeverity[neighborhood] = 50\n",
    "        elif severity == 131:\n",
    "            fireSeverity[neighborhood] = 35\n",
    "        elif severity == 113:\n",
    "            fireSeverity[neighborhood] = 18\n",
    "        elif severity == 114:\n",
    "            fireSeverity[neighborhood] = 12\n",
    "        elif severity == 151 or severity == 150:\n",
    "            fireSeverity[neighborhood] = 8\n",
    "        elif severity == 141 or severity == 142 or severity == 143:\n",
    "            fireSeverity[neighborhood] = 27\n",
    "        else:\n",
    "            fireSeverity[neighborhood] = 5\n",
    "\n",
    "#changes dictionary to dataframe and graphs\n",
    "fireSeverityGraph = pd.DataFrame.from_dict(fireSeverity, orient='index', dtype = None, columns=None)\n",
    "fireSeverityGraph = fireSeverityGraph.iloc[1: , :]\n",
    "fireSeverityGraph.plot.bar(figsize=(20,3), title = \"The Total Severity of Fires per Neighborhood\", color = \"red\")"
   ]
  },
  {
   "cell_type": "code",
   "execution_count": null,
   "metadata": {},
   "outputs": [],
   "source": [
    "#creates the average severity dictionary\n",
    "avgSeverity = {}            \n",
    "for neighborhood in fireCount:\n",
    "    if neighborhood not in avgSeverity:\n",
    "        avgSeverity[neighborhood] = fireSeverity[neighborhood] / fireCount[neighborhood]\n",
    "    \n",
    "#Turns the dictionary into a dataframe and graphs it.\n",
    "avgSeverityGraph = pd.DataFrame.from_dict(avgSeverity, orient='index', dtype = None, columns=None)\n",
    "avgSeverityGraph = avgSeverityGraph.iloc[1: , :]\n",
    "avgSeverityGraph.plot.bar(figsize=(20,3), title = \"The Average Severity of Fires per Neighborhood\", color = \"green\")"
   ]
  },
  {
   "cell_type": "code",
   "execution_count": null,
   "metadata": {},
   "outputs": [],
   "source": [
    "#here we sort the values of the each dataframe and regraph\n",
    "fireCountGraph.columns = ['Neighborhood']\n",
    "countSorted = fireCountGraph.sort_values('Neighborhood', axis = 0, ascending=False, kind = \"quicksort\")\n",
    "countSorted.plot.bar(figsize=(20,3), title = \"Fire Incidents Per Neighborhood in Pittsburgh\")\n",
    "\n",
    "fireSeverityGraph.columns = ['Neighborhood']\n",
    "severitySorted = fireSeverityGraph.sort_values('Neighborhood', axis = 0, ascending=False, kind = \"quicksort\")\n",
    "severitySorted.plot.bar(figsize=(20,3), title = \"The Total Severity of Fires per Neighborhood\", color = \"red\")\n",
    "\n",
    "avgSeverityGraph.columns = ['Neighborhood']\n",
    "avgSorted = avgSeverityGraph.sort_values('Neighborhood', axis = 0, ascending=False, kind = \"quicksort\")\n",
    "avgSorted.plot.bar(figsize=(20,3), title = \"The Average Severity of Fires per Neighborhood\", color = \"green\")"
   ]
  },
  {
   "cell_type": "code",
   "execution_count": null,
   "metadata": {},
   "outputs": [],
   "source": [
    "countTopFive = countSorted.tail(3)\n",
    "countTopFive.plot.bar(title=\"Neighborhoods with the Lowest Fire Count\")\n",
    "\n",
    "severityTopFive = severitySorted.tail(3)\n",
    "severityTopFive.plot.bar(title = \"Neighborhoods with the Lowest Fire Severity\", color = \"red\")\n",
    "\n",
    "avgTopFive = avgSorted.tail(3)\n",
    "avgTopFive.plot.bar(title = \"Neighborhoods with the Lowest Average Fire Severity\", color = \"green\")"
   ]
  },
  {
   "cell_type": "markdown",
   "metadata": {},
   "source": [
    "#### Conclusion:\n",
    "With these final graphs, we can see that there could have been three different winners.  IF we only counted the fire incidents, Mount Oliver Borough would win. If we took the total severity of the incidents, Regent Square would win. And finally, if we only looked at the average severity, New Homestead would win. So what does this mean? Well it means that there must be a decision about which graph is the most important. The average severity per fire is the most important because it depicts which neighborhoods are more dangerous the best. By finding the average severity of the fires, it takes into account not just the number of the fires, but also how bad they are. This is why from my data, I declare theat New Homestead is the best neighborhood in Pittsburgh.\n",
    "\n",
    "While my metric declared New Homestead as the best neighborhood, my experience states otherwise. My personal favorite neighborhood is Moneroeville due to it having lots to do and is generally a nice area. I believe this discrepency between my favorite neighborhood and the one the data declared the best is due to what determines my favorite neighborhood. Other than Oakland, I have never lived in Pittsburgh, so I never took the fire safety into consideration as I would only be there for a limited time."
   ]
  },
  {
   "cell_type": "markdown",
   "metadata": {},
   "source": [
    "### Speedhumps in Pittsburgh\n",
    "\n",
    "Finally, we're going to take a look at the number of speedhumps throughout Pittsburgh. "
   ]
  },
  {
   "cell_type": "code",
   "execution_count": null,
   "metadata": {},
   "outputs": [],
   "source": [
    "import pandas as pd\n",
    "%matplotlib inline\n",
    "import matplotlib.pyplot as plt\n",
    "import matplotlib.font_manager\n",
    "\n",
    "def metaGraph():\n",
    "    plt.yticks([0,2,4,6,8,10,12,14,16,18,])\n",
    "    plt.ylabel(\"Humps\", fontweight=\"bold\", fontname=\"PT Serif\", fontsize=13)\n",
    "    plt.xlabel(\"Neighborhood\", fontweight=\"bold\", fontname=\"PT Serif\", fontsize=13)\n",
    "    plt.title(\"Humps per Hood in Pittsburgh, PA\", fontweight=\"bold\", fontname=\"PT Serif\", fontsize=15)\n",
    "\n",
    "matplotlib.font_manager.findSystemFonts(fontpaths=\"/data/fonts/\", fontext='ttf')\n",
    "\n",
    "humps = pd.read_csv(\"data/speedhumps.csv\")\n",
    "\n",
    "humps.head()"
   ]
  },
  {
   "cell_type": "code",
   "execution_count": null,
   "metadata": {},
   "outputs": [],
   "source": [
    "hph = {}  # My custom metric of Humps Per Hood\n",
    "hoods = []\n",
    "nums = []\n",
    "\n",
    "# To do this better, insert in order the neighborhoods, then increment the corresponding index in the nums list\n",
    "# FUN FACT: YOU CAN'T ACTUALLY DO THAT (AT LEAST NOT EASILY)\n",
    "for index, row in humps.iterrows():\n",
    "    hood = row[\"neighborhood\"]\n",
    "    if hood in hph:\n",
    "        hph[hood] += 1\n",
    "    else:\n",
    "        hph[hood] = 1\n",
    "        \n",
    "for i in hph:\n",
    "    hoods.append(i)\n",
    "    nums.append(hph[i])\n",
    "\n",
    "\n",
    "hph = {\"Neighborhood\":hoods, \"Humps\":nums}\n",
    "print(hph)"
   ]
  },
  {
   "cell_type": "code",
   "execution_count": null,
   "metadata": {},
   "outputs": [],
   "source": [
    "graphHumps = pd.DataFrame.from_dict(hph)\n",
    "\n",
    "graphHumps.plot.bar(color=\"#A414C4\", x=\"Neighborhood\", y=\"Humps\")\n",
    "metaGraph()"
   ]
  },
  {
   "cell_type": "code",
   "execution_count": null,
   "metadata": {},
   "outputs": [],
   "source": [
    "graphHumpsSorted = graphHumps.sort_values(\"Humps\", ascending=False)\n",
    "\n",
    "graphHumpsSorted.plot.bar(color=\"#A414C4\", x=\"Neighborhood\", y=\"Humps\")\n",
    "metaGraph()"
   ]
  },
  {
   "cell_type": "code",
   "execution_count": null,
   "metadata": {},
   "outputs": [],
   "source": [
    "mean = graphHumps[\"Humps\"].mean()\n",
    "median = graphHumps[\"Humps\"].median()\n",
    "graphHumps[\"Mean\"] = mean\n",
    "graphHumps[\"Median\"] = median\n",
    "graphHumpsSorted = graphHumps.sort_values(\"Humps\", ascending=False)\n",
    "\n",
    "graphHumpsSorted.plot.bar(color=\"#A414C4\", x=\"Neighborhood\", y=\"Humps\")\n",
    "graphHumpsSorted[\"Mean\"].plot.line(style=\"--\", lw=2, color=\"black\")\n",
    "graphHumpsSorted[\"Median\"].plot.line(style=\"--\", rot=90, lw=2, color=\"green\")\n",
    "plt.legend([\"Mean\", \"Median\", \"Humps\"])\n",
    "metaGraph()"
   ]
  },
  {
   "cell_type": "code",
   "execution_count": null,
   "metadata": {},
   "outputs": [],
   "source": [
    "ghwQueryMean = graphHumpsSorted[\"Humps\"] >= mean\n",
    "ghwQueryMedian = graphHumpsSorted[\"Humps\"] >= median\n",
    "\n",
    "graphHumpsSorted[ghwQueryMean].plot.bar(color=\"#A414C4\",x=\"Neighborhood\", y=\"Humps\", rot=0)\n",
    "metaGraph()\n",
    "graphHumpsSorted[ghwQueryMedian].plot.bar(color=\"#A414C4\",x=\"Neighborhood\", y=\"Humps\")\n",
    "metaGraph()"
   ]
  },
  {
   "cell_type": "markdown",
   "metadata": {},
   "source": [
    "#### Declaring Our Winners\n",
    "\n",
    "The last thing that remains for us to do is crown some winners. Sadly, there are a bunch of ties in our data, so the best we can do is give a clear first and second (Going to Squirrel Hill South and Carrick respectively), then give out a bunch of tied 3rd and 4th place medals. To do this we collect the neighborhoods that are above the mean line and those that are above the median. This gets us some slightly different results, and it's up to you on which average to trust, but now you have a good idea of where to start on picking your safest neighborhood."
   ]
  },
  {
   "cell_type": "markdown",
   "metadata": {},
   "source": [
    "## Combining the Metrics:\n",
    "Now that we have all done our individual analysis, it's time to do some group analysis and combine our submetrics into one. While doing this, we realize that not all databases are created equally and thus limit our later two datasets to only include neighborhoods that exist within our smallest database, Humps Per Hood. First, we must redefine our two larger dictionaries to fix this issue. "
   ]
  },
  {
   "cell_type": "code",
   "execution_count": null,
   "metadata": {},
   "outputs": [],
   "source": [
    "hph = {}  # My custom metric of Humps Per Hood\n",
    "hoods = []\n",
    "nums = []\n",
    "\n",
    "# To do this better, insert in order the neighborhoods, then increment the corresponding index in the nums list\n",
    "# FUN FACT: YOU CAN'T ACTUALLY DO THAT (AT LEAST NOT EASILY)\n",
    "for index, row in humps.iterrows():\n",
    "    hood = row[\"neighborhood\"]\n",
    "    if hood in hph:\n",
    "        hph[hood] += 1\n",
    "    else:\n",
    "        hph[hood] = 1\n",
    "        \n",
    "for i in hph:\n",
    "    hoods.append(i)\n",
    "    nums.append(hph[i])\n",
    "\n",
    "\n",
    "hph = {\"Neighborhood\":hoods, \"Humps\":nums}\n",
    "\n",
    "#recreates the needed fires dictionary\n",
    "#Creates severity dictionary\n",
    "fireSeverity = {}\n",
    "for index, row in fires.iterrows():\n",
    "    neighborhood = row['neighborhood']\n",
    "    severity = row['incident_type']\n",
    "    if neighborhood in fireSeverity:\n",
    "        if severity == 111:\n",
    "            fireSeverity[neighborhood] += 50\n",
    "        elif severity == 131:\n",
    "            fireSeverity[neighborhood] += 35\n",
    "        elif severity == 113:\n",
    "            fireSeverity[neighborhood] += 18\n",
    "        elif severity == 114:\n",
    "            fireSeverity[neighborhood] += 12\n",
    "        elif severity == 151 or severity == 150:\n",
    "            fireSeverity[neighborhood] += 8\n",
    "        elif severity == 141 or severity == 142 or severity == 143:\n",
    "            fireSeverity[neighborhood] += 27\n",
    "        else:\n",
    "            fireSeverity[neighborhood] += 5\n",
    "    elif neighborhood not in fireSeverity and neighborhood != None and neighborhood in hoods:\n",
    "        fireCount[neighborhood] = 1\n",
    "        if severity == 111:\n",
    "            fireSeverity[neighborhood] = 50\n",
    "        elif severity == 131:\n",
    "            fireSeverity[neighborhood] = 35\n",
    "        elif severity == 113:\n",
    "            fireSeverity[neighborhood] = 18\n",
    "        elif severity == 114:\n",
    "            fireSeverity[neighborhood] = 12\n",
    "        elif severity == 151 or severity == 150:\n",
    "            fireSeverity[neighborhood] = 8\n",
    "        elif severity == 141 or severity == 142 or severity == 143:\n",
    "            fireSeverity[neighborhood] = 27\n",
    "        else:\n",
    "            fireSeverity[neighborhood] = 5\n",
    "            \n",
    "#recreates crime dictionary\n",
    "crime_dict = {}\n",
    "dict_count = {}\n",
    "for index, row in chip.iterrows():\n",
    "    cur_hood = row['INCIDENTNEIGHBORHOOD']\n",
    "    if cur_hood in crime_dict:\n",
    "        crime_dict[cur_hood] = crime_dict.get(cur_hood) + row['HIERARCHY']\n",
    "        dict_count[cur_hood] = dict_count.get(cur_hood) + 1\n",
    "    elif cur_hood not in crime_dict and cur_hood in hoods:\n",
    "        crime_dict[cur_hood] = row['HIERARCHY']\n",
    "        dict_count[cur_hood] = 1\n",
    "        \n",
    "mean = {}\n",
    "for (k,v), (k2,v2) in zip(crime_dict.items(), dict_count.items()):\n",
    "     mean[k] = v/v2\n",
    "\n"
   ]
  },
  {
   "cell_type": "markdown",
   "metadata": {},
   "source": [
    "## Dictionary to Dataframe\n",
    "\n",
    "Now that we have dictionaries we need dataframes for graphing. This is easy enough, or it would be if we had generated some nicer dictionaries, sadly we live in a cruel cruel world and have to append some extra code so that all of our dataframes have the same levels of information."
   ]
  },
  {
   "cell_type": "code",
   "execution_count": null,
   "metadata": {},
   "outputs": [],
   "source": [
    "#turns our dictionaries into dataframes for easier manipulation\n",
    "\n",
    "#fires dataframe\n",
    "graph = pd.DataFrame.from_dict(fire_count, orient='index', dtype = None, columns=None)\n",
    "graph = graph.iloc[1: , :]\n",
    "#Fixing the indexing and column names\n",
    "graph.reset_index(inplace=True)\n",
    "graph = graph.rename(columns = {'index':'Neighborhood', 0:'Fire Incidents'})\n",
    "\n",
    "#crime dataframes\n",
    "count_df = pd.DataFrame.from_dict(dict_count, orient = 'index')\n",
    "mean_dataframe = pd.DataFrame.from_dict(mean, orient = 'index')\n",
    "#Fixing the indexing and column names\n",
    "count_df.reset_index(inplace=True)\n",
    "count_df = count_df.rename(columns = {'index':'Neighborhood', 0:'Crime Incidents'})\n",
    "\n",
    "#humps dataframe\n",
    "graphHumps = pd.DataFrame.from_dict(hph)"
   ]
  },
  {
   "cell_type": "markdown",
   "metadata": {},
   "source": [
    "## Dataframe to Graphs\n",
    "\n",
    "Now we have our nice dataframes and we can just throw them through some functions to get pretty graphs. On their own this tells us really little, especially since higher numbers mean better in some locations, and worse in others. Let's do something about this.  "
   ]
  },
  {
   "cell_type": "code",
   "execution_count": null,
   "metadata": {},
   "outputs": [],
   "source": [
    "#Now let's get some pretty graphs out\n",
    "graph.plot.bar(color=\"#A50000\",  x=\"Neighborhood\", y=\"Fire Incidents\")\n",
    "metaGraphGroup(\"Fire Incidents\")\n",
    "\n",
    "count_df.plot.bar(color=\"#000FB4\", x=\"Neighborhood\", y=\"Crime Incidents\")\n",
    "metaGraphGroup(\"Crime Incidents\")\n",
    "\n",
    "graphHumps.plot.bar(color=\"#A414C4\", x=\"Neighborhood\", y=\"Humps\")\n",
    "plt.yticks([0,2,4,6,8,10,12,14,16,18,])\n",
    "metaGraphGroup(\"Humps\")"
   ]
  },
  {
   "cell_type": "markdown",
   "metadata": {},
   "source": [
    "## Sorted Graphs\n",
    "\n",
    "Now let's sort our graphs in accordance with their metric. So for our first two graphs, lower means better, so we're going to assort them ascending, but for our last graph, higher means better, and so we sort it descending. Still, we don't see a clear winner, so we have to do some cool math."
   ]
  },
  {
   "cell_type": "code",
   "execution_count": null,
   "metadata": {},
   "outputs": [],
   "source": [
    "#We do a little sorting\n",
    "graphSorted = graph.sort_values(\"Fire Incidents\", ascending=True)\n",
    "count_df_sorted = count_df.sort_values(\"Crime Incidents\", ascending=True)\n",
    "graphHumpsSorted = graphHumps.sort_values(\"Humps\", ascending=False)\n",
    "\n",
    "#More pretty graphs\n",
    "graphSorted.plot.bar(color=\"#A50000\",  x=\"Neighborhood\", y=\"Fire Incidents\")\n",
    "metaGraphGroup(\"Fire Incidents\")\n",
    "\n",
    "count_df_sorted.plot.bar(color=\"#000FB4\", x=\"Neighborhood\", y=\"Crime Incidents\")\n",
    "metaGraphGroup(\"Crime Incidents\")\n",
    "\n",
    "graphHumpsSorted.plot.bar(color=\"#A414C4\", x=\"Neighborhood\", y=\"Humps\")\n",
    "plt.yticks([0,2,4,6,8,10,12,14,16,18,])\n",
    "metaGraphGroup(\"Humps\")"
   ]
  },
  {
   "cell_type": "markdown",
   "metadata": {},
   "source": [
    "## Putting it All Together\n",
    "\n",
    "Finally, the time has come for us to combine all of our metrics. We've decided to do this in a way similar to the Olympics. Meaning that we're going to give out points for winning which will be less than the number of points for losing. So first place will get 1 point, second will get 2 etc. Then, we can graph the point totals for the neighborhoods and decide, via who has the least points, which neighborhood is the safest. "
   ]
  },
  {
   "cell_type": "code",
   "execution_count": null,
   "metadata": {},
   "outputs": [],
   "source": [
    "points = [0] * len(hoods)\n",
    "\n",
    "for i in range(0, len(graphSorted[\"Neighborhood\"])):\n",
    "    k = hoods.index(graphSorted[\"Neighborhood\"].loc[i])\n",
    "    points[k] += i\n",
    "    \n",
    "for i in range(0, len(count_df_sorted[\"Neighborhood\"])):\n",
    "    k = hoods.index(count_df_sorted[\"Neighborhood\"].loc[i])\n",
    "    points[k] += i\n",
    "    \n",
    "for i in range(0, len(graphHumpsSorted[\"Neighborhood\"])):\n",
    "    k = hoods.index(graphHumpsSorted[\"Neighborhood\"].loc[i])\n",
    "    points[k] += i\n",
    "\n",
    "pointsDict = {\"Neighborhood\":hoods, \"Points\":points}\n",
    "pointsDF = pd.DataFrame.from_dict(pointsDict)\n",
    "\n",
    "pointsDF.plot.bar(color=\"#08871A\",  x=\"Neighborhood\", y=\"Points\")\n",
    "metaGraphGroup(\"Points\")"
   ]
  },
  {
   "cell_type": "code",
   "execution_count": null,
   "metadata": {},
   "outputs": [],
   "source": [
    "pointsDFSorted = pointsDF.sort_values(\"Points\", ascending=True)\n",
    "\n",
    "pointsDFSorted.plot.bar(color=\"#08871A\",  x=\"Neighborhood\", y=\"Points\")\n",
    "metaGraphGroup(\"Points\")"
   ]
  },
  {
   "cell_type": "markdown",
   "metadata": {},
   "source": [
    "## Conclusion\n",
    "\n",
    "Once again, after sorting and graphig, we have our clear winners. Through our metrics of fire, crime, and speedhumps, we declare the safest neighborhood in Pittsburgh to be South Side Flats, followed by the runners up Squirrel Hill South and Carrick. Congratulations to all neighborhoods that put in their bid, you tried your best."
   ]
  }
 ],
 "metadata": {
  "kernelspec": {
   "display_name": "Python 3",
   "language": "python",
   "name": "python3"
  },
  "language_info": {
   "codemirror_mode": {
    "name": "ipython",
    "version": 3
   },
   "file_extension": ".py",
   "mimetype": "text/x-python",
   "name": "python",
   "nbconvert_exporter": "python",
   "pygments_lexer": "ipython3",
   "version": "3.8.3"
  }
 },
 "nbformat": 4,
 "nbformat_minor": 4
}
