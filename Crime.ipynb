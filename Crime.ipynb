{
 "cells": [
  {
   "cell_type": "markdown",
   "metadata": {},
   "source": [
    "My metric is the crime per neighborhood. Each neighborhood's crimes were listed and for each crime was an integer value from 0-99 that rated how severe the crime was. So I averaged these numbers for each neighborhood to decide which neighborhood was the most dangerous."
   ]
  },
  {
   "cell_type": "code",
   "execution_count": null,
   "metadata": {},
   "outputs": [],
   "source": [
    "import pandas as pd\n",
    "import geopandas\n",
    "%matplotlib inline\n",
    "\n",
    "chip = pd.read_csv(\"data/CrimeRate.csv\")\n",
    "\n",
    "dict = {}\n",
    "dict_count = {}\n",
    "for index, row in chip.iterrows():\n",
    "    if not row['INCIDENTNEIGHBORHOOD'] in dict:\n",
    "        dict[row['INCIDENTNEIGHBORHOOD']] = row['HIERARCHY']\n",
    "        dict_count[row['INCIDENTNEIGHBORHOOD']] = 1\n",
    "    else:\n",
    "        dict[row['INCIDENTNEIGHBORHOOD']] = dict.get(row['INCIDENTNEIGHBORHOOD']) + row['HIERARCHY']\n",
    "        dict_count[row['INCIDENTNEIGHBORHOOD']] = dict_count.get(row['INCIDENTNEIGHBORHOOD']) + 1\n",
    "        \n",
    "mean = {}\n",
    "for (k,v), (k2,v2) in zip(dict.items(), dict_count.items()):\n",
    "     mean[k] = v/v2\n",
    "\n",
    "count_df = pd.DataFrame.from_dict(dict_count, orient = 'index')\n",
    "mean_dataframe = pd.DataFrame.from_dict(mean, orient = 'index')\n",
    "\n",
    "#neighborhoods = geopandas.read_file(\"data/neighborhoods.shp\") # read in the shapefile\n",
    "#mean_map = neighborhoods.merge(mean_dataframe, how='left')\n",
    "count_df.plot(kind = \"bar\", figsize=(35,15), color= \"green\", title = \"Count of Crimes Per Neighborhood\")\n",
    "mean_dataframe.plot(kind = \"bar\", figsize=(35,15), title = \"Average of Hierarchical Crime Per Neighborhood\")"
   ]
  },
  {
   "cell_type": "markdown",
   "metadata": {},
   "source": [
    "I took all of the neigborhoods in Pittsburgh included ina data set which included statisitcs on all the crimes that took place in different neighborhoods. Included in each crime and neighborhood was a hierarchy number for the crime which represented how bad the crime was. I took hierarchies for each neighborhood's crimes and added them up. I then found the average of them using the sum of the hierarchies and the total number of crimes for each neihborhood. As a result, I conclude that Mt. Oliver is the best because it has the least average of hierarchical crime and a low amount of overall crimes commited."
   ]
  }
 ],
 "metadata": {
  "kernelspec": {
   "display_name": "Python 3",
   "language": "python",
   "name": "python3"
  },
  "language_info": {
   "codemirror_mode": {
    "name": "ipython",
    "version": 3
   },
   "file_extension": ".py",
   "mimetype": "text/x-python",
   "name": "python",
   "nbconvert_exporter": "python",
   "pygments_lexer": "ipython3",
   "version": "3.8.3"
  }
 },
 "nbformat": 4,
 "nbformat_minor": 4
}
